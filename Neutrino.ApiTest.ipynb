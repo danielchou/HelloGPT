{
 "cells": [
  {
   "cell_type": "code",
   "execution_count": 4,
   "metadata": {},
   "outputs": [
    {
     "name": "stdout",
     "output_type": "stream",
     "text": [
      "我是OpenAI的GPT-3模型。\n"
     ]
    }
   ],
   "source": [
    "# Once you've created a router, you can use it like this:\n",
    "from openai import OpenAI\n",
    "\n",
    "client = OpenAI(\n",
    "    # Set the OpenAI base url to the Neutrino router API endpoint\n",
    "    base_url=\"https://router.neutrinoapp.com/api/llm-router\",\n",
    "    # Set the API key to the Neutrino API key (you can create one in 'Settings')\n",
    "    api_key=\"sk-dd3a93dacea361a1281732ea1b6d0c0a\"\n",
    ")\n",
    "\n",
    "## 參照 https://docs.neutrinoapp.com/router/models\n",
    "## GPT-3.5-turbo - GPT-4 - Claude V1 Instant - Claude V2 - Command Light - Command - Llama 2 7B Chat - Llama 2 13B Chat - Llama 2 70B Chat - Mistral 7B Instruct - Mistral 7B OpenOrca - Mixtral 8x7B Chat - J2 Ultra - J2 Mid\n",
    "response = client.chat.completions.create(\n",
    "    # Instead of a specific model like 'gpt-3.5-turbo', set this to your router ID\n",
    "    model=\"claude-2\",\n",
    "    messages = [{\"role\": \"user\", \"content\": \"請問你是哪個版本?\"}],\n",
    ")\n",
    "\n",
    "\n",
    "\n",
    "print(response.choices[0].message.content)"
   ]
  }
 ],
 "metadata": {
  "kernelspec": {
   "display_name": "Python 3",
   "language": "python",
   "name": "python3"
  },
  "language_info": {
   "codemirror_mode": {
    "name": "ipython",
    "version": 3
   },
   "file_extension": ".py",
   "mimetype": "text/x-python",
   "name": "python",
   "nbconvert_exporter": "python",
   "pygments_lexer": "ipython3",
   "version": "3.10.2"
  }
 },
 "nbformat": 4,
 "nbformat_minor": 2
}
