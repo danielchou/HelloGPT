{
 "cells": [
  {
   "cell_type": "code",
   "execution_count": 3,
   "metadata": {},
   "outputs": [
    {
     "name": "stdout",
     "output_type": "stream",
     "text": [
      "对工程师来说,AI技术的发展既带来机遇也带来挑战。我的建议是:\n",
      "\n",
      "1. 保持学习和开放的心态。AI只是工具,重要的是我们如何利用这些工具。学习AI相关知识,了解其应用领域。 \n",
      "\n",
      "2. 加强软技能。工程不仅仅是技术活,也需要团队协作、问题解决、需求分析等软技能。这些是AI难以完全取代的。\n",
      "\n",
      "3. 转型升级。可以考虑从纯技术开发角色,转向AI应用架构师、数据工程师等新兴方向。结合自己的专长学习新知识。\n",
      "\n",
      "4. 积极行动。不要被行业变化惊扰,而是主动进行职业规划,为可能的转型做准备。\n",
      "\n",
      "5. 正确认识自身价值。工程师的价值不仅在于技术,还在于解决实际业务痛点的能力。发掘自身的核心竞争力。\n",
      "\n",
      "6. 关注工程师的未来需求。AI时代对系统工程师的需求仍然存在,需要我们基于AI来设计和优化系统。\n",
      "\n",
      "综上,AI带来的影响是可以应对的。保持学习和正能量,做好转型准备,仍然可以在这个行业有所作为。我们要理性看待AI,作为工具利用好它,而不是被它取代。\n"
     ]
    }
   ],
   "source": [
    "# Once you've created a router, you can use it like this:\n",
    "api_key = open(\"apikey/neutrino.key.txt\", \"r\").read()\n",
    "from openai import OpenAI\n",
    "\n",
    "client = OpenAI(\n",
    "    # Set the OpenAI base url to the Neutrino router API endpoint\n",
    "    base_url=\"https://router.neutrinoapp.com/api/llm-router\",\n",
    "    # Set the API key to the Neutrino API key (you can create one in 'Settings')\n",
    "    api_key=api_key\n",
    ")\n",
    "\n",
    "## 參照 https://docs.neutrinoapp.com/router/models\n",
    "response = client.chat.completions.create(\n",
    "    # Instead of a specific model like 'gpt-3.5-turbo', set this to your router ID\n",
    "    model=\"claude-2\",\n",
    "    messages = [{\"role\": \"user\", \"content\": \"你是一個學有專精的系統程式開發專家，面對現在AI技術的盛行，原本開發的工程師應該怎面對未來的工作上的挑戰?會造成將來失業嗎?\"}],\n",
    ")\n",
    "\n",
    "print(response.choices[0].message.content)"
   ]
  }
 ],
 "metadata": {
  "kernelspec": {
   "display_name": "Python 3",
   "language": "python",
   "name": "python3"
  },
  "language_info": {
   "codemirror_mode": {
    "name": "ipython",
    "version": 3
   },
   "file_extension": ".py",
   "mimetype": "text/x-python",
   "name": "python",
   "nbconvert_exporter": "python",
   "pygments_lexer": "ipython3",
   "version": "3.12.2"
  }
 },
 "nbformat": 4,
 "nbformat_minor": 2
}
