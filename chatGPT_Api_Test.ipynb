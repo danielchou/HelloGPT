{
 "cells": [
  {
   "cell_type": "code",
   "execution_count": 1,
   "metadata": {},
   "outputs": [
    {
     "name": "stdout",
     "output_type": "stream",
     "text": [
      "我是GPT-3版本的AI助手。有什麼我可以幫助你的嗎？\n",
      "{\n",
      "  \"id\": \"chatcmpl-8XW0DjjyuePQ5d8kDpptQZw3xBJ6J\",\n",
      "  \"object\": \"chat.completion\",\n",
      "  \"created\": 1702998533,\n",
      "  \"model\": \"gpt-3.5-turbo-0613\",\n",
      "  \"choices\": [\n",
      "    {\n",
      "      \"index\": 0,\n",
      "      \"message\": {\n",
      "        \"role\": \"assistant\",\n",
      "        \"content\": \"\\u6211\\u662fGPT-3\\u7248\\u672c\\u7684AI\\u52a9\\u624b\\u3002\\u6709\\u4ec0\\u9ebc\\u6211\\u53ef\\u4ee5\\u5e6b\\u52a9\\u4f60\\u7684\\u55ce\\uff1f\"\n",
      "      },\n",
      "      \"logprobs\": null,\n",
      "      \"finish_reason\": \"stop\"\n",
      "    }\n",
      "  ],\n",
      "  \"usage\": {\n",
      "    \"prompt_tokens\": 25,\n",
      "    \"completion_tokens\": 31,\n",
      "    \"total_tokens\": 56\n",
      "  },\n",
      "  \"system_fingerprint\": null\n",
      "}\n"
     ]
    }
   ],
   "source": [
    "import openai\n",
    "\n",
    "\n",
    "openai.organization = ''\n",
    "openai.api_key = open(\"chatGPT_apikey.txt\", \"r\").read()  ## Api Key另外存寫\n",
    "\n",
    "completion = openai.ChatCompletion.create(\n",
    "  model=\"gpt-3.5-turbo\",\n",
    "  messages=[\n",
    "    {\"role\": \"user\", \"content\": \"你好啊，請問你是什麼版本?\"}\n",
    "  ]\n",
    ")\n",
    "print(completion.choices[0].message.content.encode('utf-8').decode('utf-8'))\n",
    "print(completion)"
   ]
  }
 ],
 "metadata": {
  "kernelspec": {
   "display_name": "Python 3",
   "language": "python",
   "name": "python3"
  },
  "language_info": {
   "codemirror_mode": {
    "name": "ipython",
    "version": 3
   },
   "file_extension": ".py",
   "mimetype": "text/x-python",
   "name": "python",
   "nbconvert_exporter": "python",
   "pygments_lexer": "ipython3",
   "version": "3.10.2"
  }
 },
 "nbformat": 4,
 "nbformat_minor": 2
}
