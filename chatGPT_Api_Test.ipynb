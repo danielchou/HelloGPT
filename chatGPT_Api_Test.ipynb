{
 "cells": [
  {
   "cell_type": "code",
   "execution_count": 6,
   "metadata": {},
   "outputs": [
    {
     "name": "stdout",
     "output_type": "stream",
     "text": [
      "ChatCompletionMessage(content='AI技術的盛行無疑改變了開發工程师的工作風貌，帶來了新的挑戰，但也提供了新的機會。要應對這些挑戰，開發工程师應當從以下幾方面做好準備：\\n\\n1. 學習新知識：關注並學習最新的AI技術和工具，如機器學習框架、深度學習演算法等，將自己的技能升級以適應市場需求。\\n\\n2. 改變思維方式：AI技術強調的是數據驅動，這與傳統的程序驅動有很大的不同。開發工程師需要學習如何將數據與算法結合，使用數據驅動決策。\\n\\n3. 增強問題解決能力：AI在解決現實世界問題中發揮著越來越重要的作用，工程師需要具備良好的問題分析和解決能力，將技術與實際問題結合。\\n\\n4. 學習跨領域知識：AI項目往往涉及多個領域，且每個領域都有其專門的知識要求。工程師需要學習跨領域知識，包括統計學、計算機視覺、自然語言處理等。\\n\\n至於失業問題，創新和發展總會帶來行業結構的變革，有些工作可能會被淘汰，但同時也會產生新的工作。以AI來說，它確實可能替代一些重複性強和規則性強的工作，但在開發、研究、應用等方面，創造出來的職位遠超過被取代的。因此，只要工程師不斷提升自己，跟上時代的步伐，便能夠把握住新的機會，不會因為AI的盛行而失業。', role='assistant', function_call=None, tool_calls=None)\n"
     ]
    }
   ],
   "source": [
    "import openai\n",
    "api_key = open(\"apikey/chatGPT_apikey.txt\", \"r\").read()\n",
    "client = openai.Client(api_key = api_key)\n",
    "\n",
    "completion = client.chat.completions.create(\n",
    "  model=\"gpt-3.5-turbo\",\n",
    "  # model=\"gpt-4\",\n",
    "  messages=[\n",
    "    {\"role\": \"system\", \"content\": \"今天你是一個學有專精的系統程式開發專家\"},\n",
    "    {\"role\": \"user\", \"content\": \"面對現在AI技術的盛行，原本開發的工程師應該怎面對未來的工作上的挑戰?會造成將來失業嗎?\"},\n",
    "  ]\n",
    ")\n",
    "\n",
    "print(completion.choices[0].message)"
   ]
  },
  {
   "cell_type": "code",
   "execution_count": null,
   "metadata": {},
   "outputs": [],
   "source": [
    "## embeddings的計算\n",
    "\n",
    "response = client.embeddings.create(\n",
    "    input=\"food\",\n",
    "    model=\"text-embedding-ada-002\"\n",
    ")\n",
    "\n",
    "print(response.data[0].embedding)\n"
   ]
  }
 ],
 "metadata": {
  "kernelspec": {
   "display_name": "Python 3",
   "language": "python",
   "name": "python3"
  },
  "language_info": {
   "codemirror_mode": {
    "name": "ipython",
    "version": 3
   },
   "file_extension": ".py",
   "mimetype": "text/x-python",
   "name": "python",
   "nbconvert_exporter": "python",
   "pygments_lexer": "ipython3",
   "version": "3.12.2"
  }
 },
 "nbformat": 4,
 "nbformat_minor": 2
}
