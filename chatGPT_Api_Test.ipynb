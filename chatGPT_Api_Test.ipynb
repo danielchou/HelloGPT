{
 "cells": [
  {
   "cell_type": "code",
   "execution_count": 3,
   "metadata": {},
   "outputs": [
    {
     "name": "stdout",
     "output_type": "stream",
     "text": [
      "ChatCompletionMessage(content='醫生好棒，救死扶傷光榮！治病救人是你的專長，精準的診斷，溫暖的關懷。勇敢戰鬥在第一線，無懼苦辣辛酸，默默守護生命的燦爛。你的專業無人能敵，病魔給你頓挫但你不退。啦啦隊呼聲高昂，鼓舞你的信心往前狂。醫生好棒，救人之道你信奉，榮耀永在心中靈動。', role='assistant', function_call=None, tool_calls=None)\n"
     ]
    }
   ],
   "source": [
    "import openai\n",
    "api_key = open(\"apikey/chatGPT_apikey.txt\", \"r\").read()\n",
    "client = openai.Client(api_key = api_key)\n",
    "\n",
    "completion = client.chat.completions.create(\n",
    "  model=\"gpt-3.5-turbo\",\n",
    "  messages=[\n",
    "    {\"role\": \"system\", \"content\": \"今天你是一個學有專精的醫生\"},\n",
    "    {\"role\": \"user\", \"content\": \"請你寫一段120字以內的啦啦隊呼\"},\n",
    "  ]\n",
    ")\n",
    "\n",
    "print(completion.choices[0].message)"
   ]
  },
  {
   "cell_type": "code",
   "execution_count": null,
   "metadata": {},
   "outputs": [],
   "source": [
    "## embeddings的計算\n",
    "\n",
    "response = client.embeddings.create(\n",
    "    input=\"food\",\n",
    "    model=\"text-embedding-ada-002\"\n",
    ")\n",
    "\n",
    "print(response.data[0].embedding)"
   ]
  }
 ],
 "metadata": {
  "kernelspec": {
   "display_name": "Python 3",
   "language": "python",
   "name": "python3"
  },
  "language_info": {
   "codemirror_mode": {
    "name": "ipython",
    "version": 3
   },
   "file_extension": ".py",
   "mimetype": "text/x-python",
   "name": "python",
   "nbconvert_exporter": "python",
   "pygments_lexer": "ipython3",
   "version": "3.10.2"
  }
 },
 "nbformat": 4,
 "nbformat_minor": 2
}
