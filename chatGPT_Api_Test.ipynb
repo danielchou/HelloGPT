{
 "cells": [
  {
   "cell_type": "code",
   "execution_count": 1,
   "metadata": {},
   "outputs": [
    {
     "name": "stderr",
     "output_type": "stream",
     "text": [
      "<>:10: SyntaxWarning: invalid escape sequence '\\/'\n",
      "<>:10: SyntaxWarning: invalid escape sequence '\\/'\n",
      "C:\\Users\\danie\\AppData\\Local\\Temp\\ipykernel_6984\\3808155599.py:10: SyntaxWarning: invalid escape sequence '\\/'\n",
      "  {\"role\": \"user\", \"content\": \"\"\"\"\n"
     ]
    },
    {
     "ename": "SyntaxError",
     "evalue": "invalid character '，' (U+FF0C) (3808155599.py, line 2125)",
     "output_type": "error",
     "traceback": [
      "\u001b[1;36m  Cell \u001b[1;32mIn[1], line 2125\u001b[1;36m\u001b[0m\n\u001b[1;33m    </html>\"\"\" 我如果給你上面的原始碼，請問你可以幫我找出人類看到的摘要重點是什麼?\u001b[0m\n\u001b[1;37m                          ^\u001b[0m\n\u001b[1;31mSyntaxError\u001b[0m\u001b[1;31m:\u001b[0m invalid character '，' (U+FF0C)\n"
     ]
    }
   ],
   "source": [
    "import openai\n",
    "api_key = open(\"apikey/chatGPT_apikey.txt\", \"r\").read()\n",
    "client = openai.Client(api_key = api_key)\n",
    "\n",
    "completion = client.chat.completions.create(\n",
    "  model=\"gpt-3.5-turbo\",\n",
    "  # model=\"gpt-4\",\n",
    "  messages=[\n",
    "    {\"role\": \"system\", \"content\": \"今天你是一個網頁程式設計師\"},\n",
    "    {\"role\": \"user\", \"content\": \"面對現在AI技術的盛行，原本開發的工程師應該怎面對未來的工作上的挑戰?會造成將來失業嗎?\"},\n",
    "  ]\n",
    ")\n",
    "\n",
    "print(completion.choices[0].message)"
   ]
  },
  {
   "cell_type": "code",
   "execution_count": null,
   "metadata": {},
   "outputs": [],
   "source": [
    "## embeddings的計算\n",
    "\n",
    "response = client.embeddings.create(\n",
    "    input=\"food\",\n",
    "    model=\"text-embedding-ada-002\"\n",
    ")\n",
    "\n",
    "print(response.data[0].embedding)\n"
   ]
  }
 ],
 "metadata": {
  "kernelspec": {
   "display_name": "Python 3",
   "language": "python",
   "name": "python3"
  },
  "language_info": {
   "codemirror_mode": {
    "name": "ipython",
    "version": 3
   },
   "file_extension": ".py",
   "mimetype": "text/x-python",
   "name": "python",
   "nbconvert_exporter": "python",
   "pygments_lexer": "ipython3",
   "version": "3.12.2"
  }
 },
 "nbformat": 4,
 "nbformat_minor": 2
}
